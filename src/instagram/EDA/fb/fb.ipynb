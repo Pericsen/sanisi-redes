{
 "cells": [
  {
   "cell_type": "code",
   "execution_count": 8,
   "id": "76bda5cb",
   "metadata": {},
   "outputs": [],
   "source": [
    "import pandas as pd"
   ]
  },
  {
   "cell_type": "code",
   "execution_count": 9,
   "id": "a45c1dc1",
   "metadata": {},
   "outputs": [],
   "source": [
    "df = pd.read_csv(\"fb_page_comments_20250510_172622.csv\")\n",
    "comments_df = pd.read_excel(\"comments_fb_clasificados.xlsx\")"
   ]
  },
  {
   "cell_type": "code",
   "execution_count": 10,
   "id": "cfc9c1a6",
   "metadata": {},
   "outputs": [
    {
     "name": "stdout",
     "output_type": "stream",
     "text": [
      "<class 'pandas.core.frame.DataFrame'>\n",
      "RangeIndex: 5392 entries, 0 to 5391\n",
      "Data columns (total 12 columns):\n",
      " #   Column                Non-Null Count  Dtype  \n",
      "---  ------                --------------  -----  \n",
      " 0   post_id               5392 non-null   object \n",
      " 1   post_message          5371 non-null   object \n",
      " 2   post_time             5392 non-null   object \n",
      " 3   post_shares           5392 non-null   int64  \n",
      " 4   post_comments_count   5392 non-null   int64  \n",
      " 5   post_reactions_count  5392 non-null   int64  \n",
      " 6   comment_id            5392 non-null   object \n",
      " 7   comment_from          0 non-null      float64\n",
      " 8   comment_psid          0 non-null      float64\n",
      " 9   comment_text          5199 non-null   object \n",
      " 10  comment_time          5392 non-null   object \n",
      " 11  comment_likes         5392 non-null   int64  \n",
      "dtypes: float64(2), int64(4), object(6)\n",
      "memory usage: 505.6+ KB\n"
     ]
    }
   ],
   "source": [
    "df.info()"
   ]
  },
  {
   "cell_type": "code",
   "execution_count": 12,
   "id": "c0d8eac9",
   "metadata": {},
   "outputs": [],
   "source": [
    "comments_df.to_csv(\n",
    "    \"comments_fb_clasificados.csv\",\n",
    "    index=False,)"
   ]
  },
  {
   "cell_type": "code",
   "execution_count": null,
   "id": "ea32b427",
   "metadata": {},
   "outputs": [],
   "source": []
  }
 ],
 "metadata": {
  "kernelspec": {
   "display_name": "sanisi-env",
   "language": "python",
   "name": "python3"
  },
  "language_info": {
   "codemirror_mode": {
    "name": "ipython",
    "version": 3
   },
   "file_extension": ".py",
   "mimetype": "text/x-python",
   "name": "python",
   "nbconvert_exporter": "python",
   "pygments_lexer": "ipython3",
   "version": "3.13.1"
  }
 },
 "nbformat": 4,
 "nbformat_minor": 5
}
