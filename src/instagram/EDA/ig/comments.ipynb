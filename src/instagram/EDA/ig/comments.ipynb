{
 "cells": [
  {
   "cell_type": "code",
   "execution_count": 14,
   "id": "2f90ceec",
   "metadata": {},
   "outputs": [],
   "source": [
    "import pandas as pd\n",
    "import numpy as np\n",
    "import os\n"
   ]
  },
  {
   "cell_type": "code",
   "execution_count": 20,
   "id": "f182ff27",
   "metadata": {},
   "outputs": [],
   "source": [
    "df = pd.read_csv('comments_processed.csv')"
   ]
  },
  {
   "cell_type": "code",
   "execution_count": 21,
   "id": "a783a23f",
   "metadata": {},
   "outputs": [],
   "source": [
    "df = df[df['comment_text'].duplicated()==False]"
   ]
  },
  {
   "cell_type": "code",
   "execution_count": 27,
   "id": "08e3f599",
   "metadata": {},
   "outputs": [],
   "source": [
    "df[['comment_text', 'possible_complaint']].to_excel('comments_processed_for_labeling.xlsx', index=False)"
   ]
  }
 ],
 "metadata": {
  "kernelspec": {
   "display_name": "sanisi-env",
   "language": "python",
   "name": "python3"
  },
  "language_info": {
   "codemirror_mode": {
    "name": "ipython",
    "version": 3
   },
   "file_extension": ".py",
   "mimetype": "text/x-python",
   "name": "python",
   "nbconvert_exporter": "python",
   "pygments_lexer": "ipython3",
   "version": "3.13.1"
  }
 },
 "nbformat": 4,
 "nbformat_minor": 5
}
