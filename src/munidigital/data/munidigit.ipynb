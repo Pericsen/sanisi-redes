{
 "cells": [
  {
   "cell_type": "code",
   "execution_count": 10,
   "id": "44349901",
   "metadata": {},
   "outputs": [],
   "source": [
    "import pandas as pd\n",
    "import numpy as np\n",
    "import os"
   ]
  },
  {
   "cell_type": "code",
   "execution_count": 11,
   "id": "b3ab5ec6",
   "metadata": {},
   "outputs": [],
   "source": [
    "df = pd.read_csv(\"incidentes_24-12-2024_23-04-2025.csv\")"
   ]
  },
  {
   "cell_type": "code",
   "execution_count": 12,
   "id": "476fad5f",
   "metadata": {},
   "outputs": [
    {
     "data": {
      "text/plain": [
       "Index(['id', 'areaServicioDescripcion', 'tipoIncidenteDescripcion',\n",
       "       'tipoServicio', 'fechaAlta', 'ultimaFechaAlta', 'fechaCreacion',\n",
       "       'prioridadDescripcion', 'estadoDescripcion', 'fechaActualizacion',\n",
       "       'direccion', 'barrio', 'zona', 'zonaAdministrativa', 'latitud',\n",
       "       'longitud', 'origen', 'creadoPor', 'observaciones', 'tipoIdentificador',\n",
       "       'identificadorId', 'identificadorDescripcion', 'ciudadanoId',\n",
       "       'ciudadanoNombre', 'ciudadanoApellido', 'ciudadanoDni',\n",
       "       'ciudadanoEmail', 'ciudadanoTelefono', 'ciudadanoBarrio',\n",
       "       'ciudadanoFechaAlta', 'fechaPuntaje', 'puntaje',\n",
       "       'encuestaObservaciones', 'areaId', 'tipoIncidenteId'],\n",
       "      dtype='object')"
      ]
     },
     "execution_count": 12,
     "metadata": {},
     "output_type": "execute_result"
    }
   ],
   "source": [
    "df.columns"
   ]
  },
  {
   "cell_type": "code",
   "execution_count": 13,
   "id": "5697360a",
   "metadata": {},
   "outputs": [],
   "source": [
    "cols = ['areaServicioDescripcion', 'tipoIncidenteDescripcion',\n",
    "       'tipoServicio',\n",
    "       'prioridadDescripcion', 'estadoDescripcion', 'origen', 'creadoPor', 'observaciones',\n",
    "       'encuestaObservaciones']\n",
    "df = df[cols]"
   ]
  },
  {
   "cell_type": "code",
   "execution_count": 14,
   "id": "8ab66aa0",
   "metadata": {},
   "outputs": [
    {
     "data": {
      "text/plain": [
       "observaciones\n",
       "True     32530\n",
       "False    30222\n",
       "Name: count, dtype: int64"
      ]
     },
     "execution_count": 14,
     "metadata": {},
     "output_type": "execute_result"
    }
   ],
   "source": [
    "df['observaciones'].duplicated().value_counts()"
   ]
  },
  {
   "cell_type": "markdown",
   "id": "3823ad67",
   "metadata": {},
   "source": [
    "### Unir CLIBA y higiene urbana, unir redes-via publica y transito"
   ]
  },
  {
   "cell_type": "code",
   "execution_count": 15,
   "id": "176819fc",
   "metadata": {},
   "outputs": [
    {
     "data": {
      "text/plain": [
       "areaServicioDescripcion\n",
       "Arbolado Urbano                             20826\n",
       "Alumbrado                                   12006\n",
       "CLIBA (Higiene Urbana)                       9607\n",
       "Higiene Urbana                               5242\n",
       "Obras Públicas                               3979\n",
       "Redes - Vía Pública                          3004\n",
       "Tránsito                                     1526\n",
       "Inspección                                   1011\n",
       "* INT - Dirección de Comercio                 890\n",
       "Ordenamiento Vial                             640\n",
       "Obras Particulares                            546\n",
       "INT - Barrios Alumbrado                       443\n",
       "* INT - Control y fiscalización / Exposi      440\n",
       "Espacios Verdes                               349\n",
       "Acción Social                                 238\n",
       "Tipos de incidencia quitados                  224\n",
       "* INT - Espectáculos públicos                 214\n",
       "Mascotas                                      188\n",
       "Seguridad ciudadana                           146\n",
       "Fiscalización de obras                        143\n",
       "Publicidad                                    141\n",
       "Control de vectores                           141\n",
       "@Otros: reclamo sin área                      139\n",
       "Eventos                                       117\n",
       "Inspección - eventualidades nocturnas         117\n",
       "ARSI (Tasas)                                  104\n",
       "Bromatología                                   87\n",
       "* INT - Dirección de Industrias                52\n",
       "Salud                                          46\n",
       "Permisos                                       27\n",
       "Habilitaciones                                 25\n",
       "Relevamiento Poste Nuevo                       19\n",
       "Relevamiento - Tachos de restos                17\n",
       "Movilidad Urbana                               15\n",
       "Deporte                                        11\n",
       "INT - Obras Particulares                        7\n",
       "Alerta Animal                                   7\n",
       "Violencia de Género                             6\n",
       "Espacios Públicos                               5\n",
       "Informática                                     4\n",
       "* INT - Antenas                                 1\n",
       "Encuesta Menu                                   1\n",
       "Int - ARSI                                      1\n",
       "Name: count, dtype: int64"
      ]
     },
     "execution_count": 15,
     "metadata": {},
     "output_type": "execute_result"
    }
   ],
   "source": [
    "df['areaServicioDescripcion'].value_counts()"
   ]
  },
  {
   "cell_type": "code",
   "execution_count": 16,
   "id": "32881509",
   "metadata": {},
   "outputs": [],
   "source": [
    "areas_filtrar = ['Arbolado Urbano', 'Alumbrado', 'CLIBA (Higiene Urbana)', \n",
    "                 'Higiene Urbana', 'Obras Públicas', 'Redes - Vía Pública', 'Tránsito']\n",
    "\n",
    "df_filtrado = df[df['areaServicioDescripcion'].isin(areas_filtrar)]\n",
    "\n",
    "# Unificar categorías usando replace\n",
    "# Unir CLIBA (Higiene Urbana) con Higiene Urbana\n",
    "df_filtrado.loc[df_filtrado['areaServicioDescripcion'] == 'CLIBA (Higiene Urbana)', \n",
    "                'areaServicioDescripcion'] = 'Higiene Urbana'\n",
    "\n",
    "# Unir via publica y transito como infraestructura publica\n",
    "df_filtrado.loc[df_filtrado['areaServicioDescripcion'].isin(['Redes - Vía Pública', 'Tránsito']), \n",
    "                'areaServicioDescripcion'] = 'Infraestructura Pública'"
   ]
  },
  {
   "cell_type": "markdown",
   "id": "14a18779",
   "metadata": {},
   "source": [
    "Areas son:\n",
    "0. Arbolado Urbano\n",
    "1. Alumbrado\n",
    "2. Higiene Urbana\n",
    "3. Obras Publicas\n",
    "4. Infraestructura Publica"
   ]
  },
  {
   "cell_type": "code",
   "execution_count": 17,
   "id": "19c0609c",
   "metadata": {},
   "outputs": [],
   "source": [
    "df_filtrado = df_filtrado[df_filtrado['observaciones'].duplicated()==False]"
   ]
  },
  {
   "cell_type": "code",
   "execution_count": 18,
   "id": "b06f3cb9",
   "metadata": {},
   "outputs": [],
   "source": [
    "df_filtrado = df_filtrado[['areaServicioDescripcion', 'observaciones']]"
   ]
  },
  {
   "cell_type": "code",
   "execution_count": 19,
   "id": "d0ee20d6",
   "metadata": {},
   "outputs": [],
   "source": [
    "df_filtrado.to_csv('munidigital_data.csv', index=False)"
   ]
  }
 ],
 "metadata": {
  "kernelspec": {
   "display_name": "sanisi-env",
   "language": "python",
   "name": "python3"
  },
  "language_info": {
   "codemirror_mode": {
    "name": "ipython",
    "version": 3
   },
   "file_extension": ".py",
   "mimetype": "text/x-python",
   "name": "python",
   "nbconvert_exporter": "python",
   "pygments_lexer": "ipython3",
   "version": "3.13.1"
  }
 },
 "nbformat": 4,
 "nbformat_minor": 5
}
